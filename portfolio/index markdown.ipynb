{
 "cells": [
  {
   "cell_type": "markdown",
   "metadata": {},
   "source": [
    "## About Me\n",
    "\n",
    "Rahul Sridhar - Machine Learning practitioner and Data Scientist! <br>\n",
    "Education:\n",
    "* M.S. in Computer Science from the University of California, Irvine. (Sep 2016 - Dec 2017)\n",
    "* B.E. in Computer Science from Anna University, India. (Aug 2010 - Apr 2014)\n",
    " \n",
    "Work Experience:\n",
    "* Computation Student Intern at the Lawrence Livermore National Laboratory (Jun - Sep 2017)\n",
    "* Decision Scientist at Mu Sigma, India (Aug 2014 - Apr 2016)"
   ]
  },
  {
   "cell_type": "code",
   "execution_count": null,
   "metadata": {
    "collapsed": true
   },
   "outputs": [],
   "source": []
  },
  {
   "cell_type": "code",
   "execution_count": null,
   "metadata": {
    "collapsed": true
   },
   "outputs": [],
   "source": []
  },
  {
   "cell_type": "code",
   "execution_count": null,
   "metadata": {
    "collapsed": true
   },
   "outputs": [],
   "source": []
  }
 ],
 "metadata": {
  "anaconda-cloud": {},
  "kernelspec": {
   "display_name": "Python [Root]",
   "language": "python",
   "name": "Python [Root]"
  },
  "language_info": {
   "codemirror_mode": {
    "name": "ipython",
    "version": 2
   },
   "file_extension": ".py",
   "mimetype": "text/x-python",
   "name": "python",
   "nbconvert_exporter": "python",
   "pygments_lexer": "ipython2",
   "version": "2.7.12"
  }
 },
 "nbformat": 4,
 "nbformat_minor": 0
}
